{
 "cells": [
  {
   "cell_type": "code",
   "execution_count": 1,
   "id": "f66549d1-b9ee-41e0-afb1-22d4eb8643b6",
   "metadata": {},
   "outputs": [
    {
     "name": "stdout",
     "output_type": "stream",
     "text": [
      "Python keywords plays an plays an important role to our python program as it helps to translate the syntactical code to understandable language for us & machines both.\\Five Keywords used in python\n",
      "1.print()\n",
      "2.sum()\n",
      "3.list()\n",
      "4.dict()\n",
      "5.set()\n"
     ]
    }
   ],
   "source": [
    "# 1.Explain the significance of Python keywords and provide examples of five keywords\n",
    "print(\"Python reserved keywords are predefined & can't be the variables, Identifiers...etc these variables have different functions and works, the keywords are used to programm the well-defined & structured data.\\Five Keywords used in python\\n1.print()\\n2.sum()\\n3.list()\\n4.dict()\\n5.set()\")"
   ]
  },
  {
   "cell_type": "code",
   "execution_count": 7,
   "id": "62f7204e-397b-4cff-abcf-3a257fc36390",
   "metadata": {},
   "outputs": [
    {
     "name": "stdout",
     "output_type": "stream",
     "text": [
      "Identifiers are names given to any data type which can be variable, functions..etc.\n",
      "Rules for defining identifiers\n",
      "1.Identifiers must start with upper or lower case lettes from A-Z\n",
      "2.Identifiers are the case sensetive.\n",
      "3.Special characters & reserved Keywords are Prohibited in identifiers.\n",
      "\n",
      "Hello there\n"
     ]
    }
   ],
   "source": [
    "# 2.Describe the rules for defining identifiers in Python and provide an example.\n",
    "print('Identifiers are names given to any data type which can be variable, functions..etc.\\nRules for defining identifiers\\n1.Identifiers must start with upper or lower case lettes from A-Z\\n2.Identifiers are the case sensetive.\\n3.Special characters & reserved Keywords are Prohibited in identifiers.\\n')\n",
    "\n",
    "#for example\n",
    "\n",
    "#Here I'm defining a variable with identifiers\n",
    "\n",
    "Pwskills12 = \"Hello there\" \n",
    "#As you can see in the upper variable the identifiers used and the rules are valid for assigning a variable \n",
    "print(Pwskills12)"
   ]
  },
  {
   "cell_type": "code",
   "execution_count": 9,
   "id": "1e33565a-f20a-47be-aa5b-f53bf3ad7f9d",
   "metadata": {},
   "outputs": [
    {
     "name": "stdout",
     "output_type": "stream",
     "text": [
      "In programming languages comments are used to explain the code to the user it is type of method in which the system rejects the comented code and is readable to humans.\n",
      "In python we use to declare comments before applying to any word by using the hash keyword'#'\n"
     ]
    }
   ],
   "source": [
    "# 3. What are comments in Python, and why are they useful? Provide an example.\n",
    "\n",
    "print(\"In programming languages comments are used to explain the code to the user it is type of method in which the system rejects the comented code and is readable to humans.\\nIn python we use to declare comments before applying to any word by using the hash keyword'#'\")\n",
    "\n",
    "#For example\n",
    "\n",
    "bablu_dablu = \"My name is bablu & My friend's name is dablu\" #Here, I assigned the variable with the identifier bablu_dablu and now you can see this is the commented code"
   ]
  },
  {
   "cell_type": "code",
   "execution_count": 11,
   "id": "0d9e95c8-d05e-4a8e-b730-cd98d9128833",
   "metadata": {},
   "outputs": [
    {
     "name": "stdout",
     "output_type": "stream",
     "text": [
      "Proper indentation in Python enhances code clarity, aiding readability, structure, and understanding, facilitating maintenance and collaboration.\n"
     ]
    }
   ],
   "source": [
    "# 4. Why is proper indentation important in Python?\n",
    "\n",
    "print(\"Proper indentation in Python enhances code clarity, aiding readability, structure, and understanding, facilitating maintenance and collaboration.\")"
   ]
  },
  {
   "cell_type": "code",
   "execution_count": 10,
   "id": "ea77892f-bfdd-42e9-a849-d070ca4d4794",
   "metadata": {},
   "outputs": [
    {
     "name": "stdout",
     "output_type": "stream",
     "text": [
      "If indentation is incorrect in python then it'll throw an indentation error & the code will terminate.\n"
     ]
    }
   ],
   "source": [
    "#5. What happens if indentation is incorrect in python? \n",
    "print(\"If indentation is incorrect in python then it'll throw an indentation error & the code will terminate.\")"
   ]
  },
  {
   "cell_type": "code",
   "execution_count": 15,
   "id": "823825af-3d1d-420e-8a6f-d88ac5650f65",
   "metadata": {},
   "outputs": [
    {
     "name": "stdout",
     "output_type": "stream",
     "text": [
      "Expressions: Expressions are used to declare any variable, functions, operators\n",
      "Expressions include Arithmetic,logical,Relational & other data types\n",
      "Statements: Statements are the complete instructions that performs the actions.\n",
      "Statement ends with : or slash n for the new line\n",
      "41\n",
      "True\n"
     ]
    }
   ],
   "source": [
    "# 6.Differentiate between expressions and statements in Python with examples ? \n",
    "print('''Expressions: Expressions are used to declare any variable, functions, operators\\nExpressions include Arithmetic,logical,Relational & other data types\\nStatements: Statements are the complete instructions that performs the actions.\\nStatement ends with : or slash n for the new line''')\n",
    "\n",
    "#Expression example\n",
    "x  = 20\n",
    "\n",
    "x+=21 #In this I'm using increment operator to add 21 to imply the expression with the variable x and print it to the console.\n",
    "\n",
    "print(x) \n",
    "#Statement example\n",
    "\n",
    "if 22 > 12: #In this it is passing a conditional statement and ends with a colon\n",
    "    print(True)\n",
    "else:\n",
    "    print(False)"
   ]
  },
  {
   "cell_type": "code",
   "execution_count": null,
   "id": "9ade055c-4e05-4c93-870c-da90b89efe91",
   "metadata": {},
   "outputs": [],
   "source": []
  }
 ],
 "metadata": {
  "kernelspec": {
   "display_name": "Python 3 (ipykernel)",
   "language": "python",
   "name": "python3"
  },
  "language_info": {
   "codemirror_mode": {
    "name": "ipython",
    "version": 3
   },
   "file_extension": ".py",
   "mimetype": "text/x-python",
   "name": "python",
   "nbconvert_exporter": "python",
   "pygments_lexer": "ipython3",
   "version": "3.10.8"
  }
 },
 "nbformat": 4,
 "nbformat_minor": 5
}
